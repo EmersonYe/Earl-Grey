{
 "cells": [
  {
   "cell_type": "code",
   "execution_count": 26,
   "metadata": {
    "collapsed": true
   },
   "outputs": [
    {
     "name": "stdout",
     "output_type": "stream",
     "text": [
      "env: GOOGLE_APPLICATION_CREDENTIALS=/Users/emersonsjsu/GitHub/EarlGrey/google_private_key.json\n"
     ]
    }
   ],
   "source": [
    "from __future__ import division\n",
    "import glob\n",
    "import codecs\n",
    "import re\n",
    "from math import log\n",
    "from collections import Counter\n",
    "from collections import defaultdict\n",
    "from heapq import heapify, nlargest\n",
    "\n",
    "import matplotlib.pyplot as plt\n",
    "import pandas as pd\n",
    "import numpy as np\n",
    "from google.cloud import language\n",
    "from google.cloud.language import enums\n",
    "from google.cloud.language import types\n",
    "\n",
    "%env GOOGLE_APPLICATION_CREDENTIALS=/Users/emersonsjsu/GitHub/EarlGrey/google_private_key.json\n",
    "WORKING_DIRECTORY = \"/Users/emersonsjsu/GitHub/EarlGrey\"\n"
   ]
  },
  {
   "cell_type": "code",
   "execution_count": 2,
   "metadata": {
    "collapsed": true
   },
   "outputs": [
    {
     "name": "stdout",
     "output_type": "stream",
     "text": [
      "S1E25: [29921, 0, 0, 0, 0, 0, 0]\n"
     ]
    },
    {
     "name": "stdout",
     "output_type": "stream",
     "text": [
      "S2E47: [29921, 21786, 0, 0, 0, 0, 0]\n"
     ]
    },
    {
     "name": "stdout",
     "output_type": "stream",
     "text": [
      "S3E73: [29921, 21786, 25218, 0, 0, 0, 0]\n"
     ]
    },
    {
     "name": "stdout",
     "output_type": "stream",
     "text": [
      "S4E99: [29921, 21786, 25218, 23199, 0, 0, 0]\n"
     ]
    },
    {
     "name": "stdout",
     "output_type": "stream",
     "text": [
      "S5E125: [29921, 21786, 25218, 23199, 23540, 0, 0]\n"
     ]
    },
    {
     "name": "stdout",
     "output_type": "stream",
     "text": [
      "S6E151: [29921, 21786, 25218, 23199, 23540, 19013, 0]\n"
     ]
    },
    {
     "name": "stdout",
     "output_type": "stream",
     "text": [
      "S7E176: [29921, 21786, 25218, 23199, 23540, 19013, 24844]\n"
     ]
    },
    {
     "data": {
      "text/plain": [
       "[29921, 21786, 25218, 23199, 23540, 19013, 24844]"
      ]
     },
     "execution_count": 2,
     "metadata": {},
     "output_type": "execute_result"
    }
   ],
   "source": [
    "# Clear char_df\n",
    "FIRST_EPISODE_OFFSET = 101\n",
    "LAST_EPISODE_IN_SEASON = {25: 1, 47: 2, 73: 3, 99: 4, 125: 5, 151: 6, 176: 7}\n",
    "regex = re.compile('[^a-zA-Z ]')\n",
    "\n",
    "\n",
    "def get_season(episode_no):\n",
    "    return LAST_EPISODE_IN_SEASON.get(episode_no, 0)\n",
    "\n",
    "\n",
    "def sanitize_name(name_line):\n",
    "    name = name_line.strip()  # Voice overs count as same character\n",
    "    if name.endswith('V.O.'):\n",
    "        name = name[:-5]\n",
    "    # Strip parentheticals from name\n",
    "    if name.find('(') != -1:\n",
    "        name = name[:name.find('(')]\n",
    "    # Strip 'S VOICE from name\n",
    "    if name.endswith('\\'S VOICE'):\n",
    "        name = name[:-8]\n",
    "    # Strip 'S COM VOICE from name\n",
    "    if name.endswith('\\'S COM VOICE'):\n",
    "        name = name[:-12]\n",
    "    return name.strip()\n",
    "\n",
    "\n",
    "# counters_dict expects {char: (counter_obj, [s1count,s2count, ..., s7count])}\n",
    "def process_script(file_path, counters_dict):\n",
    "    current_file = codecs.open(file_path, \"r\", encoding='utf-8', errors=\"ignore\")\n",
    "    episode_no = int(current_file.name[current_file.name.rfind('/') + 1:-4]) - FIRST_EPISODE_OFFSET\n",
    "    is_dialogue = False\n",
    "    character_name = \"\"\n",
    "    lines = current_file.readlines()\n",
    "    for line in lines:\n",
    "        # Character dialogue has ended, reset current character\n",
    "        if line.strip() == '':\n",
    "            is_dialogue = False\n",
    "        # All names are preceded by exactly 5 tabs\n",
    "        elif line[:5] == '\\t\\t\\t\\t\\t' and line[5:6] != '\\t' and not line.strip().startswith('('):\n",
    "            # We have found a name! Update current name\n",
    "            character_name = sanitize_name(line)\n",
    "            is_dialogue = True\n",
    "        # If we are still looking at a character's dialogue\n",
    "        elif is_dialogue:\n",
    "            # Update character's counter object\n",
    "            counters_dict[character_name][0].update(regex.sub('', line).lower().split())\n",
    "    current_file.close()\n",
    "\n",
    "    # Check if we are end of a season\n",
    "    season_no = get_season(episode_no)\n",
    "    if season_no:\n",
    "        # Update wc per season for each character in counters_dict\n",
    "        for v in counters_dict.itervalues():\n",
    "            # Set season wc for every character. Subtract sum of previous values because counter_obj\n",
    "            # keeps cumulative word count\n",
    "            v[1][season_no - 1] = sum(v[0].values()) - sum(v[1])\n",
    "\n",
    "\n",
    "character_wc_dict = defaultdict(lambda: (Counter(), [0] * 7))\n",
    "#for full_path in sorted(glob.glob(WORKING_DIRECTORY+'/scripts/148.txt')):  # Only read one file for debug purposes\n",
    "for full_path in sorted(glob.glob(WORKING_DIRECTORY + '/scripts/*.txt')):\n",
    "    process_script(full_path, character_wc_dict)\n",
    "\n",
    "#counters_dict['PICARD'][0].most_common(10)\n",
    "character_wc_dict['PICARD'][1]\n"
   ]
  },
  {
   "cell_type": "code",
   "execution_count": 3,
   "metadata": {
    "collapsed": true
   },
   "outputs": [
    {
     "data": {
      "text/plain": [
       "Counter({u'raining': 1,\n         u'foul': 5,\n         u'four': 551,\n         u'fortythird': 1,\n         u'berlinghoff': 1,\n         u'spiders': 4,\n         u'hanging': 8,\n         u'centimeter': 6,\n         u'localized': 14,\n         u'disobeying': 2,\n         u'mutinied': 1,\n         u'hmmmm': 5,\n         u'mutinies': 1,\n         u'jonos': 1,\n         u'cleponji': 1,\n         u'courtmartial': 5,\n         u'rational': 16,\n         u'rashly': 1,\n         u'oceans': 4,\n         u'offduty': 1,\n         u'bile': 1,\n         u'stipulate': 1,\n         u'pigment': 1,\n         u'tantalizing': 2,\n         u'leisurely': 1,\n         u'fur': 3,\n         u'stabbed': 8,\n         u'bringing': 31,\n         u'disturb': 12,\n         u'recollections': 3,\n         u'liaisons': 1,\n         u'grueling': 1,\n         u'wooden': 3,\n         u'wednesday': 1,\n         u'happenings': 1,\n         u'persisted': 1,\n         u'woods': 2,\n         u'ninetwo': 1,\n         u'commented': 3,\n         u'capitalist': 1,\n         u'specially': 4,\n         u'insular': 1,\n         u'scrapes': 3,\n         u'frederick': 1,\n         u'gaseouscore': 1,\n         u'juhraya': 1,\n         u'rudman': 1,\n         u'valiant': 3,\n         u'sustaining': 3,\n         u'sailed': 2,\n         u'errors': 9,\n         u'relieving': 4,\n         u'minimize': 6,\n         u'thunder': 5,\n         u'cooking': 9,\n         u'jocular': 1,\n         u'twentypiece': 1,\n         u'aggression': 8,\n         u'fossil': 3,\n         u'designing': 2,\n         u'numeral': 1,\n         u'hallucinating': 3,\n         u'succumb': 1,\n         u'shocks': 2,\n         u'necheyev': 5,\n         u'guantum': 1,\n         u'atoms': 3,\n         u'parthenogenetic': 1,\n         u'china': 1,\n         u'fissures': 3,\n         u'affiliated': 1,\n         u'excelsior': 2,\n         u'doldrums': 1,\n         u'nanocortical': 2,\n         u'kids': 15,\n         u'uplifting': 1,\n         u'synchronic': 4,\n         u'unwillingness': 1,\n         u'elaborate': 14,\n         u'osteotractor': 1,\n         u'inward': 2,\n         u'etiology': 1,\n         u'merrygoround': 1,\n         u'waaaant': 1,\n         u'rulebook': 1,\n         u'spotty': 1,\n         u'rebel': 2,\n         u'criticism': 2,\n         u'appropriately': 3,\n         u'topography': 2,\n         u'projection': 11,\n         u'omelettes': 2,\n         u'flotsam': 2,\n         u'beneficiaries': 1,\n         u'zeronine': 1,\n         u'stern': 7,\n         u'lifegiving': 1,\n         u'opponents': 5,\n         u'dna': 98,\n         u'singlecelled': 1,\n         u'symphony': 2,\n         u'music': 64,\n         u'therefore': 39,\n         u'distortions': 12,\n         u'strike': 21,\n         u'grahams': 1,\n         u'care': 239,\n         u'temarek': 1,\n         u'selfsustaining': 1,\n         u'females': 29,\n         u'tarses': 29,\n         u'populations': 3,\n         u'hereby': 11,\n         u'nanoprocessor': 1,\n         u'ninetysix': 5,\n         u'encountered': 57,\n         u'circumstances': 59,\n         u'intake': 4,\n         u'morally': 1,\n         u'locked': 87,\n         u'pursue': 29,\n         u'plunged': 2,\n         u'abducting': 3,\n         u'locker': 8,\n         u'itself': 114,\n         u'twoonefourfivenine': 1,\n         u'interaction': 4,\n         u'exhale': 1,\n         u'admits': 3,\n         u'example': 55,\n         u'expressively': 1,\n         u'borgolis': 1,\n         u'mekba': 6,\n         u'omelets': 1,\n         u'finalists': 4,\n         u'nitrates': 1,\n         u'unjust': 1,\n         u'disparagement': 1,\n         u'currency': 1,\n         u'hormone': 1,\n         u'caution': 16,\n         u'want': 1503,\n         u'counseling': 7,\n         u'honest': 42,\n         u'absolute': 10,\n         u'barradas': 7,\n         u'elanin': 1,\n         u'travel': 57,\n         u'feature': 1,\n         u'airlocks': 1,\n         u'playback': 8,\n         u'shrug': 4,\n         u'canaries': 1,\n         u'cadence': 1,\n         u'ardra': 55,\n         u'abstraction': 1,\n         u'assimilated': 18,\n         u'minimized': 1,\n         u'outfight': 1,\n         u'wrong': 491,\n         u'sentencing': 1,\n         u'eugenics': 1,\n         u'nineseven': 1,\n         u'drinks': 8,\n         u'fictional': 8,\n         u'sickening': 3,\n         u'baggage': 4,\n         u'climactic': 1,\n         u'perpetrator': 1,\n         u'cardassia': 11,\n         u'disengaging': 8,\n         u'sarcastically': 5,\n         u'welcomed': 5,\n         u'stoicism': 1,\n         u'microbe': 3,\n         u'rewarded': 2,\n         u'activating': 16,\n         u'welcomes': 1,\n         u'fit': 46,\n         u'auditory': 4,\n         u'unforeseen': 1,\n         u'screaming': 9,\n         u'fix': 49,\n         u'occupations': 1,\n         u'survivors': 68,\n         u'reentered': 1,\n         u'inad': 1,\n         u'synthenol': 2,\n         u'fin': 1,\n         u'easier': 35,\n         u'microtomographic': 1,\n         u'vouchers': 4,\n         u'diodes': 1,\n         u'basics': 3,\n         u'effects': 50,\n         u'interrupt': 22,\n         u'sixteen': 48,\n         u'saddened': 1,\n         u'scholar': 3,\n         u'giusti': 4,\n         u'lillian': 1,\n         u'vilos': 1,\n         u'arrow': 6,\n         u'volcano': 2,\n         u'gumshoe': 1,\n         u'burial': 6,\n         u'biospectral': 6,\n         u'archetypes': 1,\n         u'series': 49,\n         u'romulans': 223,\n         u'parasites': 9,\n         u'armpanel': 1,\n         u'exhume': 3,\n         u'substantially': 2,\n         u'gosheven': 19,\n         u'message': 196,\n         u'convictedcriminal': 1,\n         u'rw': 1,\n         u'andonian': 1,\n         u'rr': 1,\n         u'creche': 1,\n         u're': 361,\n         u'encourage': 12,\n         u'periculi': 1,\n         u'adapt': 20,\n         u'modulators': 1,\n         u'ro': 87,\n         u'outburst': 1,\n         u'contagion': 1,\n         u'foundation': 6,\n         u'ranian': 1,\n         u'neurolink': 1,\n         u'threatened': 13,\n         u'strata': 4,\n         u'corrects': 5,\n         u'anatomicallycorrect': 1,\n         u'estimate': 30,\n         u'algeron': 4,\n         u'anastazine': 1,\n         u'exposing': 4,\n         u'absolved': 1,\n         u'silicon': 3,\n         u'shipped': 3,\n         u'disturbed': 18,\n         u'competed': 1,\n         u'tempting': 4,\n         u'kingdom': 3,\n         u'symbolize': 3,\n         u'ngame': 2,\n         u'thirtyfour': 13,\n         u'purpose': 110,\n         u'bowl': 2,\n         u'hearsay': 2,\n         u'dawns': 3,\n         u'additions': 1,\n         u'procreate': 4,\n         u'pronghorn': 1,\n         u'clarity': 9,\n         u'seizures': 1,\n         u'service': 89,\n         u'ruins': 22,\n         u'needed': 125,\n         u'spawn': 1,\n         u'master': 36,\n         u'hypothetical': 6,\n         u'critter': 1,\n         u'hiya': 1,\n         u'rewards': 13,\n         u'advisement': 2,\n         u'motionless': 4,\n         u'mutilated': 4,\n         u'pulse': 115,\n         u'crawl': 6,\n         u'positively': 4,\n         u'bashi': 1,\n         u'showed': 28,\n         u'tree': 12,\n         u'rusty': 3,\n         u'idly': 1,\n         u'regulator': 11,\n         u'idle': 3,\n         u'fourdelta': 1,\n         u'tres': 1,\n         u'feeling': 195,\n         u'willingness': 1,\n         u'longs': 3,\n         u'spectrum': 21,\n         u'benighted': 1,\n         u'dozen': 19,\n         u'affairs': 22,\n         u'ultralawful': 1,\n         u'mostly': 19,\n         u'soaked': 1,\n         u'sedan': 1,\n         u'recommended': 15,\n         u'thetamatrix': 1,\n         u'amusing': 19,\n         u'britches': 1,\n         u'shipments': 2,\n         u'committing': 4,\n         u'lion': 1,\n         u'thrilled': 7,\n         u'limitless': 3,\n         u'resonates': 2,\n         u'disjointed': 1,\n         u'tensely': 1,\n         u'mouth': 31,\n         u'addict': 1,\n         u'amps': 1,\n         u'expanse': 6,\n         u'atalia': 4,\n         u'expound': 1,\n         u'singer': 4,\n         u'thanatos': 1,\n         u'camp': 25,\n         u'tech': 14,\n         u'fugitives': 4,\n         u'mating': 16,\n         u'purged': 1,\n         u'wingslugs': 1,\n         u'saying': 181,\n         u'insects': 1,\n         u'meetings': 3,\n         u'reschedule': 1,\n         u'participate': 17,\n         u'lethal': 23,\n         u'tempted': 3,\n         u'lessons': 14,\n         u'orleans': 3,\n         u'layout': 4,\n         u'quaint': 1,\n         u'dedicate': 1,\n         u'bliss': 2,\n         u'lifesigns': 12,\n         u'rich': 17,\n         u'rice': 9,\n         u'plate': 9,\n         u'inoperative': 19,\n         u'umbilical': 3,\n         u'psychiatric': 3,\n         u'foremost': 5,\n         u'pocket': 27,\n         u'photoelectric': 1,\n         u'altogether': 4,\n         u'relish': 8,\n         u'societies': 10,\n         u'contributes': 1,\n         u'nicely': 16,\n         u'dipping': 2,\n         u'patch': 8,\n         u'eyelids': 1,\n         u'doraf': 1,\n         u'boarded': 9,\n         u'scrooge': 5,\n         u'padd': 35,\n         u'heirloom': 3,\n         u'sensitivity': 9,\n         u'cabots': 1,\n         u'dobara': 3,\n         u'misjudged': 2,\n         u'radius': 10,\n         u'cloning': 5,\n         u'resigned': 15,\n         u'shunting': 1,\n         u'pressured': 1,\n         u'deadpan': 1,\n         u'delphi': 3,\n         u'rings': 7,\n         u'pressures': 7,\n         u'conductive': 2,\n         u'ira': 24,\n         u'irc': 1,\n         u'glasgow': 2,\n         u'lote': 2,\n         u'requisites': 1,\n         u'spectrometers': 1,\n         u'interrupting': 215,\n         u'retracing': 1,\n         u'extend': 28,\n         u'nature': 96,\n         u'smelled': 3,\n         u'souvenir': 2,\n         u'kurlan': 4,\n         u'reconstitute': 1,\n         u'extent': 5,\n         u'defiance': 1,\n         u'debt': 11,\n         u'twosixone': 1,\n         u'tyranny': 2,\n         u'widerange': 1,\n         u'veer': 1,\n         u'disdain': 8,\n         u'country': 7,\n         u'himalayas': 2,\n         u'heating': 5,\n         u'sixtytwo': 7,\n         u'planned': 29,\n         u'lookin': 4,\n         u'logic': 29,\n         u'argue': 20,\n         u'lookie': 1,\n         u'eradicate': 3,\n         u'obscenity': 1,\n         u'fondles': 1,\n         u'untruths': 1,\n         u'lemur': 1,\n         u'mosses': 1,\n         u'gypsies': 2,\n         u'pregnancy': 3,\n         u'blonde': 4,\n         u'quomodo': 1,\n         u'yale': 4,\n         u'underdone': 1,\n         u'angel': 19,\n         u'union': 10,\n         u'subside': 1,\n         u'bothers': 3,\n         u'much': 824,\n         u'progenitor': 1,\n         u'privilege': 7,\n         u'deliberately': 20,\n         u'toning': 1,\n         u'dots': 1,\n         u'retrospect': 2,\n         u'sleighride': 2,\n         u'satlers': 1,\n         u'worker': 2,\n         u'kelp': 1,\n         u'chroniton': 18,\n         u'microtome': 1,\n         u'dote': 1,\n         u'doubts': 24,\n         u'worked': 64,\n         u'doth': 1,\n         u'spin': 2,\n         u'participatory': 1,\n         u'betan': 1,\n         u'contingencies': 2,\n         u'professionally': 1,\n         u'employ': 10,\n         u'euclidean': 1,\n         u'fajos': 2,\n         u'yardarm': 1,\n         u'k': 1,\n         u'climbed': 3,\n         u'tzu': 2,\n         u'destory': 1,\n         u'conditioned': 4,\n         u'elicit': 2,\n         u'eighteen': 46,\n         u'anticipating': 3,\n         u'violin': 7,\n         u'insatiable': 3,\n         u'hone': 1,\n         u'memorial': 9,\n         u'severity': 3,\n         u'sc': 1,\n         u'mummified': 1,\n         u'spews': 1,\n         u'split': 13,\n         u'perspicuously': 1,\n         u'codename': 1,\n         u'emphatic': 4,\n         u'qapla': 9,\n         u'european': 4,\n         u'voyages': 2,\n         u'ohsevenhundred': 3,\n         u'boiled': 2,\n         u'myocardial': 1,\n         u'inadvertently': 4,\n         u'torpedoes': 98,\n         u'refit': 8,\n         u'marched': 1,\n         u'boiler': 1,\n         u'supper': 7,\n         u'sokath': 2,\n         u'acoustics': 1,\n         u'mainsequence': 1,\n         u'mentors': 2,\n         u'academic': 4,\n         u'simulated': 14,\n         u'corporate': 4,\n         u'plaque': 3,\n         u'outlived': 1,\n         u'provocation': 7,\n         u'capitol': 4,\n         u'sleeps': 2,\n         u'golden': 2,\n         u'sleepy': 2,\n         u'ohtwothree': 1,\n         u'dtan': 5,\n         u'garvin': 12,\n         u'previous': 38,\n         u'hah': 3,\n         u'darsay': 2,\n         u'handshake': 1,\n         u'magically': 1,\n         u'clancey': 3,\n         u'servomechanism': 1,\n         u'onepointzeroone': 1,\n         u'had': 1262,\n         u'insubordination': 9,\n         u'alynna': 1,\n         u'mainly': 4,\n         u'obedient': 1,\n         u'beloved': 9,\n         u'botanists': 2,\n         u'offwhite': 2,\n         u'has': 2226,\n         u'hat': 4,\n         u'peretor': 4,\n         u'elevation': 3,\n         u'confidentially': 2,\n         u'elders': 4,\n         u'confection': 1,\n         u'unequivocally': 2,\n         u'indicative': 5,\n         u'unlikely': 34,\n         u'shadow': 11,\n         u'replace': 17,\n         u'desire': 44,\n         u'psychological': 18,\n         u'pipius': 2,\n         u'keeve': 5,\n         u'hooey': 2,\n         u'festivities': 1,\n         u'warping': 3,\n         u'crystaline': 1,\n         u'creek': 4,\n         u'crowd': 8,\n         u'devoras': 4,\n         u'crown': 1,\n         u'deflection': 1,\n         u'captive': 12,\n         u'biocybernetic': 1,\n         u'trombone': 4,\n         u'stealthily': 1,\n         u'harassment': 1,\n         u'selfdestructed': 1,\n         u'creep': 3,\n         u'enemies': 51,\n         u'bottom': 17,\n         u'pileggi': 1,\n         u'inhuman': 1,\n         u'polluted': 3,\n         u'contributing': 1,\n         u'maddoxs': 3,\n         u'periphery': 3,\n         u'palatable': 2,\n         u'shakes': 126,\n         u'stefan': 3,\n         u'elementals': 1,\n         u'kelilactirals': 1,\n         u'rephase': 2,\n         u'defensive': 47,\n         u'norkan': 3,\n         u'filaments': 4,\n         u'memorable': 1,\n         u'shaken': 11,\n         u'compositer': 1,\n         u'spaceships': 1,\n         u'subharmonics': 1,\n         u'anomalous': 17,\n         u'antiproton': 1,\n         u'match': 76,\n         u'raised': 18,\n         u'facility': 31,\n         u'maxwell': 34,\n         u'dyson': 9,\n         u'honeymoon': 2,\n         u'son': 206,\n         u'administer': 5,\n         u'undermining': 1,\n         u'beings': 51,\n         u'raises': 8,\n         u'sow': 1,\n         u'wrap': 1,\n         u'authorizes': 1,\n         u'despised': 1,\n         u'appealingly': 1,\n         u'waits': 24,\n         u'altitude': 5,\n         u'tama': 3,\n         u'nova': 19,\n         u'tame': 1,\n         u'humorous': 7,\n         u'grasping': 4,\n         u'authorized': 17,\n         u'greatness': 1,\n         u'resulted': 4,\n         u'tams': 4,\n         u'launching': 17,\n         u'bedrock': 1,\n         u'abundantly': 1,\n         u'denoting': 1,\n         u'nsomeka': 1,\n         u'mendora': 1,\n         u'safeguard': 3,\n         u'recollimating': 1,\n         u'duel': 2,\n         u'humbled': 1,\n         u'benbeck': 1,\n         u'masquerading': 1,\n         u'arrays': 14,\n         u'inside': 177,\n         u'clause': 1,\n         u'devices': 25,\n         u'nicest': 3,\n         u'dangerousif': 1,\n         u'duet': 1,\n         u'accelerate': 4,\n         u'passenger': 17,\n         u'disgrace': 14,\n         u'megahertz': 1,\n         u'implications': 8,\n         u'mirror': 6,\n         u'textbook': 2,\n         u'vermicular': 1,\n         u'rechecking': 2,\n         u'paperwork': 1,\n         u'negotiations': 44,\n         u'leer': 2,\n         u'zapata': 1,\n         u'eventual': 1,\n         u'glacier': 1,\n         u'oxygenated': 1,\n         u'desecrate': 2,\n         u'role': 37,\n         u'hopefulness': 1,\n         u'intrusions': 1,\n         u'nelvana': 19,\n         u'biomagnetic': 2,\n         u'roll': 3,\n         u'electropathic': 9,\n         u'greenery': 1,\n         u'lores': 8,\n         u'bringloidi': 7,\n         u'intend': 87,\n         u'palms': 2,\n         u'pronounced': 3,\n         u'models': 7,\n         u'ointment': 1,\n         u'bynaus': 5,\n         u'taurus': 1,\n         u'transported': 28,\n         u'eminent': 2,\n         u'intens': 1,\n         u'intent': 36,\n         u'miranda': 7,\n         u'variable': 7,\n         u'transporter': 476,\n         u'edos': 1,\n         u'explosions': 4,\n         u'loren': 4,\n         u'davilas': 1,\n         u'shootout': 1,\n         u'fastened': 1,\n         u'aquiel': 15,\n         u'beamed': 64,\n         u'onepointseven': 1,\n         u'reversible': 3,\n         u'alkars': 9,\n         u'cautioning': 3,\n         u'gown': 2,\n         u'childs': 11,\n         u'trakian': 1,\n         u'chain': 9,\n         u'whoever': 34,\n         u'machination': 1,\n         u'activated': 49,\n         u'umbrage': 1,\n         u'disrepute': 1,\n         u'skiing': 2,\n         u'chair': 51,\n         u'activates': 12,\n         u'midst': 9,\n         u'millisecond': 7,\n         u'amplification': 3,\n         u'william': 80,\n         u'onefiveone': 2,\n         u'megawatts': 2,\n         u'pen': 4,\n         u'crates': 1,\n         u'crater': 1,\n         u'prolonging': 2,\n         u'bribed': 1,\n         u'connecting': 5,\n         u'macho': 1,\n         u'oversight': 1,\n         u'verbally': 3,\n         u'downloading': 7,\n         u'jerk': 4,\n         u'choice': 215,\n         u'embark': 1,\n         u'stays': 7,\n         u'exact': 54,\n         u'minute': 161,\n         u'orifice': 2,\n         u'cooks': 4,\n         u'handwrapped': 1,\n         u'stafko': 1,\n         u'losings': 1,\n         u'skewed': 1,\n         u'leave': 534,\n         u'settle': 28,\n         u'erasures': 1,\n         u'sarjenka': 11,\n         u'speculation': 15,\n         u'spiritual': 9,\n         u'accomplishment': 2,\n         u'meadow': 1,\n         u'trails': 4,\n         u'restabilizing': 1,\n         u'sign': 95,\n         u'chopping': 2,\n         u'reaffirmed': 1,\n         u'incrementally': 1,\n         u'boraalan': 4,\n         u'talarians': 10,\n         u'semiorganic': 1,\n         u'psychotropic': 1,\n         u'denkiri': 1,\n         u'jeopardy': 13,\n         u'celebrated': 2,\n         u'alandra': 1,\n         u'melt': 3,\n         u'ghorusdans': 2,\n         u'denkirs': 1,\n         u'ground': 31,\n         u'boost': 28,\n         u'unintentionally': 3,\n         u'temperatures': 7,\n         u'ssshh': 1,\n         u'jury': 3,\n         u'climbs': 2,\n         u'mendrossens': 2,\n         u'excellently': 1,\n         u'understanding': 80,\n         u'chlorinide': 2,\n         u'upgrade': 7,\n         u'address': 28,\n         u'witticism': 2,\n         u'momentous': 2,\n         u'systemwide': 5,\n         u'passengers': 14,\n         u'hurtling': 3,\n         u'brilliant': 28,\n         u'impacted': 2,\n         u'accomplished': 22,\n         u'ineffective': 11,\n         u'proclamation': 2,\n         u'myers': 1,\n         u'tasks': 3,\n         u'raise': 73,\n         u'orphan': 3,\n         u'logical': 38,\n         u'gorlan': 1,\n         u'betraying': 6,\n         u'borhyas': 2,\n         u'boylen': 1,\n         u'fakery': 1,\n         u'undergone': 2,\n         u'anerobic': 1,\n         u'working': 281,\n         u'perished': 4,\n         u'angry': 137,\n         u'blackwater': 1,\n         u'bouys': 1,\n         u'opposed': 8,\n         u'bender': 2,\n         u'etude': 1,\n         u'scope': 2,\n         u'theoretical': 13,\n         u'prosecutor': 1,\n         u'wicked': 3,\n         u'scratched': 1,\n         u'beverlys': 6,\n         u'assimilation': 5,\n         u'twoeightseven': 1,\n         u'sierra': 4,\n         u'consoles': 7,\n         u'cookouts': 1,\n         u'everywhere': 23,\n         u'virtue': 2,\n         u'scratches': 2,\n         u'riders': 1,\n         u'rebounding': 1,\n         u'incited': 1,\n         u'intership': 1,\n         u'originally': 14,\n         u'pretend': 20,\n         u'icogram': 3,\n         u'inflamed': 1,\n         u'harmonious': 1,\n         u'stature': 3,\n         u'following': 44,\n         u'detached': 3,\n         u'gunfire': 1,\n         u'admired': 4,\n         u'plucky': 1,\n         u'hardens': 3,\n         u'mirrors': 1,\n         u'awesome': 4,\n         u'tritanium': 6,\n         u'graduation': 5,\n         u'admires': 2,\n         u'admirer': 3,\n         u'stole': 14,\n         u'pyrocytes': 1,\n         u'listens': 4,\n         u'monitoring': 37,\n         u'pelleus': 1,\n         u'buttered': 1,\n         u'untrainable': 1,\n         u'thanking': 1,\n         u'edouard': 1,\n         u'subroutines': 2,\n         u'ounce': 3,\n         u'optimal': 3,\n         u'reconfigured': 6,\n         u'encampment': 1,\n         u'edinburgh': 1,\n         u'samuel': 3,\n         u'telepath': 6,\n         u'custer': 1,\n         u'emiristol': 1,\n         u'onepointnine': 1,\n         u'kolems': 1,\n         u'baltmasor': 1,\n         u'improving': 11,\n         u'revealed': 17,\n         u'egotistical': 2,\n         u'temperate': 3,\n         u'surfing': 1,\n         u'natural': 62,\n         u'correlate': 3,\n         u'conscious': 23,\n         u'ss': 1,\n         u'fendaus': 1,\n         u'nomadic': 1,\n         u'sp': 4,\n         u'ordinarily': 9,\n         u'quadrant': 36,\n         u'thunders': 1,\n         u'so': 2182,\n         u'forebears': 1,\n         u'swollen': 1,\n         u'skirmish': 3,\n         u'wolves': 3,\n         u'pulled': 29,\n         u'se': 2,\n         u'drunken': 1,\n         u'innocuous': 2,\n         u'zakdorns': 1,\n         u'years': 676,\n         u'professors': 15,\n         u'experiments': 13,\n         u'hoh': 2,\n         u'wellproven': 1,\n         u'lovelier': 1,\n         u'reginod': 5,\n         u'tendency': 2,\n         u'tore': 2,\n         u'halloway': 1,\n         u'limbs': 3,\n         u'disconnect': 13,\n         u'muses': 2,\n         u'jil': 2,\n         u'jim': 3,\n         u'troubles': 16,\n         u'sylvan': 1,\n         u'jih': 10,\n         u'suspicion': 13,\n         u'reengineer': 1,\n         u'suspension': 2,\n         u'troubled': 17,\n         u'modestly': 2,\n         u'onkians': 1,\n         u'thereby': 3,\n         u'civilian': 9,\n         u'tarsas': 1,\n         u'courageously': 1,\n         u'indigenous': 6,\n         u'overpowering': 3,\n         u'corroded': 2,\n         u'drilling': 15,\n         u'symposium': 5,\n         u'sorted': 1,\n         u'tenaciously': 1,\n         u'reckoning': 1,\n         u'shhh': 4,\n         u'pppolar': 2,\n         u'seventythree': 13,\n         u'materialized': 8,\n         u'establishing': 8,\n         u'brianon': 5,\n         u'fisherman': 1,\n         u'dignified': 3,\n         u'battleships': 2,\n         u'instability': 15,\n         u'amnesty': 5,\n         u'quarter': 17,\n         u'tightlipped': 2,\n         u'stalling': 2,\n         u'square': 17,\n         u'retrieve': 30,\n         u'crushing': 1,\n         u'nayrok': 2,\n         u'remembrance': 3,\n         u'owing': 2,\n         u'entering': 57,\n         u'allasomorph': 1,\n         u'biospheres': 2,\n         u'obriens': 5,\n         u'troll': 1,\n         u'overworked': 3,\n         u'interned': 1,\n         u'squared': 1,\n         u'astray': 1,\n         u'swordsman': 1,\n         u'seriously': 45,\n         u'investigation': 66,\n         u'trauma': 19,\n         u'delusional': 1,\n         u'varrias': 2,\n         u'astral': 1,\n         u'igniting': 1,\n         u'plotting': 4,\n         u'complicates': 1,\n         u'disintegrated': 3,\n         u'siege': 1,\n         u'reshuffle': 1,\n         u'disrespect': 6,\n         u'disintegrates': 1,\n         u'bumps': 1,\n         u'complicated': 24,\n         u'crazier': 1,\n         u'bumpy': 4,\n         u'newsie': 1,\n         u'dissonant': 1,\n         u'outlawed': 1,\n         u'marla': 7,\n         u'shores': 1,\n         u'poses': 3,\n         u'recon': 2,\n         u'readjusting': 1,\n         u'iterative': 1,\n         u'modest': 4,\n         u'lucinium': 1,\n         u'initiate': 72,\n         u'overachieving': 1,\n         u'quibble': 1,\n         u'neglect': 2,\n         u'emotion': 35,\n         u'henry': 8,\n         u'saving': 13,\n         u'onetwentyfive': 1,\n         u'symmetry': 1,\n         u'spoken': 28,\n         u'nonconductive': 2,\n         u'reprisal': 2,\n         u'one': 2990,\n         u'canterville': 1,\n         u'open': 330,\n         u'city': 67,\n         u'boulevard': 1,\n         u'operable': 2,\n         u'bite': 17,\n         u'burst': 42,\n         u'uric': 1,\n         u'dieghan': 1,\n         u'brevity': 1,\n         u'types': 6,\n         u'convene': 2,\n         u'fendor': 1,\n         u'bits': 9,\n         u'cite': 1,\n         u'lingering': 1,\n         u'subdeural': 1,\n         u'surges': 9,\n         u'snatch': 1,\n         u'lefler': 8,\n         u'antic': 1,\n         u'absorbs': 1,\n         u'surged': 1,\n         u'ascendance': 1,\n         u'impractical': 3,\n         u'depressed': 6,\n         u'gisbourne': 3,\n         u'crossroads': 1,\n         u'executed': 19,\n         u'nonfederation': 1,\n         u'unburied': 1,\n         u'asleep': 17,\n         u'counselor': 528,\n         u'wandering': 6,\n         u'damned': 36,\n         u'addressing': 8,\n         u'illness': 21,\n         u'turned': 78,\n         ...})"
      ]
     },
     "execution_count": 3,
     "metadata": {},
     "output_type": "execute_result"
    }
   ],
   "source": [
    "universal_wc = reduce((lambda x, y: x + y), map(lambda x: x[0], character_wc_dict.itervalues()))\n",
    "universal_wc\n"
   ]
  },
  {
   "cell_type": "code",
   "execution_count": null,
   "metadata": {},
   "outputs": [
    {
     "data": {
      "text/plain": [
       "[u'PICARD',\n u'DATA',\n u'RIKER',\n u'GEORDI',\n u'BEVERLY',\n u'TROI',\n u'WORF',\n u'WESLEY',\n u'Q']"
      ]
     },
     "execution_count": 6,
     "metadata": {},
     "output_type": "execute_result"
    }
   ],
   "source": [
    "char_total_wc = []\n",
    "for k, v in character_wc_dict.iteritems():\n",
    "    tup = sum(v[1]), k\n",
    "    char_total_wc.append(tup)\n",
    "main_character_wc = nlargest(9, char_total_wc, lambda x: x[0])\n",
    "main_characters = [x[1] for x in main_character_wc]\n",
    "main_characters\n"
   ]
  },
  {
   "cell_type": "code",
   "execution_count": 114,
   "metadata": {
    "collapsed": true
   },
   "outputs": [
    {
     "name": "stdout",
     "output_type": "stream",
     "text": [
      "PICARD\n['number', 'mister', 'captains', 'log', 'stardate', 'supplemental', 'to', 'the']\nDATA\n['however', 'approximately', 'appears', 'correct', 'translating', 'am', 'sir', 'appear']\nRIKER\n['soren', 'rice', 'minuet', 'strap', 'decompress', 'william', 'yuta', 'kazago']\nGEORDI\n['reg', 'commodore', 'shipley', 'visors', 'yeah', 'bochra', 'leah', 'visor']\nBEVERLY\n['ccs', 'nana', 'cortical', 'chilton', 'alyssa', 'stimulator', 'alissa', 'inoprovaline']\nTROI\n['mother', 'ian', 'overbearing', 'repress', 'sensing', 'mmmhmm', 'ceramics', 'chandra']\nWORF\n['hailed', 'uncloaking', 'alexander', 'kahless', 'incoming', 'battelh', 'adoptive', 'torva']\nWESLEY\n['mom', 'davies', 'repulser', 'activator', 'icospectrogram', 'custodian', 'rosseau', 'prixus']\nQ\n['capitan', 'capitain', 'mortals', 'sordid', 'pedantic', 'roam', 'smugness', 'humanities']\n"
     ]
    }
   ],
   "source": [
    "anyone_speaks = sum([x[0] for x in char_total_wc])\n",
    "for person in main_characters:\n",
    "    counter = character_wc_dict[person][0]\n",
    "    person_speaks = [wc[0] for wc in main_character_wc if wc[1] == person][0]\n",
    "    defining_wc = {}\n",
    "    for word, count in counter.iteritems():\n",
    "        defining_wc[word] = (count ** 1.3)/person_speaks / (universal_wc[word]/anyone_speaks)\n",
    "    print(person)\n",
    "    top_n = nlargest(8, defining_wc.iteritems(), lambda x: x[1])\n",
    "    print([str(x[0]) for x in top_n])\n"
   ]
  },
  {
   "cell_type": "code",
   "execution_count": 96,
   "metadata": {},
   "outputs": [],
   "source": [
    "# Plot character's total words per season\n",
    "for person in main_characters:\n",
    "    box_fig = plt.figure('%s words over seasons' % person)\n",
    "    plt.bar(range(1, 8), character_wc_dict[person][1])\n",
    "    plt.xlabel('Season')\n",
    "    plt.ylabel('Number of words said')\n",
    "    plt.title('%s\\'s words said over the 7 seasons of TNG' % person)\n",
    "    plt.show()\n"
   ]
  },
  {
   "cell_type": "code",
   "execution_count": 107,
   "metadata": {},
   "outputs": [],
   "source": [
    "# Plot total words per season\n",
    "wc_per_season = reduce(lambda x, y: [sum(pair) for pair in zip(x,y)], map(lambda x: x[1], character_wc_dict.itervalues()))\n",
    "plt.bar(range(1,8), wc_per_season)\n",
    "plt.xlabel('Season')\n",
    "plt.ylabel('Number of words said')\n",
    "plt.title('Total words said over the 7 seasons of TNG')\n",
    "plt.show()\n"
   ]
  },
  {
   "cell_type": "code",
   "execution_count": 121,
   "metadata": {},
   "outputs": [],
   "source": [
    "plt.bar(range(len(main_character_wc)), [x[0] for x in main_character_wc])\n",
    "plt.xlabel('Character')\n",
    "plt.ylabel('Number of words said')\n",
    "plt.xticks(range(len(main_character_wc)), [x[1] for x in main_character_wc])\n",
    "plt.xticks(rotation=70)\n",
    "plt.title('Words said per character per season')\n",
    "plt.show()"
   ]
  },
  {
   "cell_type": "code",
   "execution_count": null,
   "metadata": {},
   "outputs": [],
   "source": []
  }
 ],
 "metadata": {
  "kernelspec": {
   "display_name": "Python 2",
   "language": "python",
   "name": "python2"
  },
  "language_info": {
   "codemirror_mode": {
    "name": "ipython",
    "version": 2
   },
   "file_extension": ".py",
   "mimetype": "text/x-python",
   "name": "python",
   "nbconvert_exporter": "python",
   "pygments_lexer": "ipython2",
   "version": "2.7.6"
  }
 },
 "nbformat": 4,
 "nbformat_minor": 0
}
